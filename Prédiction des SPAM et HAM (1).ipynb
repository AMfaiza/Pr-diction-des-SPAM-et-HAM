{
 "cells": [
  {
   "cell_type": "markdown",
   "id": "a9c65f96",
   "metadata": {},
   "source": [
    "<h1 style='color:#ff914d' align='center'>Prédiction des SPAM et HAM</h1>\n"
   ]
  },
  {
   "cell_type": "markdown",
   "id": "527e9410",
   "metadata": {},
   "source": [
    "> # Plan de travail\n",
    "\n",
    "1. Contexte du projet\n",
    "2. Analyse exploratoire des données (EDA)\n",
    "4. Prétraitement des données (Pre-processing)\n",
    "5. Modélisation\n",
    "6. Prédiction / Recommandations"
   ]
  },
  {
   "cell_type": "markdown",
   "id": "c5b68010",
   "metadata": {},
   "source": [
    "> # 1. Contexte du projet"
   ]
  },
  {
   "cell_type": "markdown",
   "id": "6d61545e",
   "metadata": {},
   "source": [
    "Les messages de spam sont non seulement des nuisances, mais ils peuvent également représenter une menace pour la sécurité en volant des informations personnelles, en propageant des logiciels malveillants et en tentant des escroqueries. Par conséquent, il est essentiel d'établir un système efficace de prédiction et de signalement des messages de spam. \n",
    "\n",
    "* Ce projet vise précisément à résoudre ce problème en utilisant l'apprentissage autoumatique (Machine Learning) afin de construire **un modèle qui peut faire la distinction avec précision entre les messages Ham et les messages de Spam.**"
   ]
  },
  {
   "cell_type": "markdown",
   "id": "bf166502",
   "metadata": {},
   "source": [
    "> # 2. Analyse exploratoire des données (EDA)"
   ]
  },
  {
   "cell_type": "markdown",
   "id": "9ea81a54",
   "metadata": {},
   "source": [
    "## Importer les librairies nécessaires "
   ]
  },
  {
   "cell_type": "code",
   "execution_count": 1,
   "id": "82b10f4e",
   "metadata": {},
   "outputs": [],
   "source": [
    "import pandas as pd #Traitement des dataframes \n",
    "import numpy as np #Algebre Lineaire \n",
    "import matplotlib.pyplot as plt\n",
    "import seaborn as sns #Visualisation Statistique\n",
    "import warnings\n",
    "warnings.filterwarnings(\"ignore\")"
   ]
  },
  {
   "cell_type": "markdown",
   "id": "da653fe6",
   "metadata": {},
   "source": [
    "## Préparation des données"
   ]
  },
  {
   "cell_type": "markdown",
   "id": "07bb3228",
   "metadata": {},
   "source": [
    "* **Charger le dataset dans un dataframe**"
   ]
  },
  {
   "cell_type": "code",
   "execution_count": 13,
   "id": "5196b0b5",
   "metadata": {},
   "outputs": [
    {
     "data": {
      "text/html": [
       "<div>\n",
       "<style scoped>\n",
       "    .dataframe tbody tr th:only-of-type {\n",
       "        vertical-align: middle;\n",
       "    }\n",
       "\n",
       "    .dataframe tbody tr th {\n",
       "        vertical-align: top;\n",
       "    }\n",
       "\n",
       "    .dataframe thead th {\n",
       "        text-align: right;\n",
       "    }\n",
       "</style>\n",
       "<table border=\"1\" class=\"dataframe\">\n",
       "  <thead>\n",
       "    <tr style=\"text-align: right;\">\n",
       "      <th></th>\n",
       "      <th>v1</th>\n",
       "      <th>v2</th>\n",
       "      <th>Unnamed: 2</th>\n",
       "      <th>Unnamed: 3</th>\n",
       "      <th>Unnamed: 4</th>\n",
       "    </tr>\n",
       "  </thead>\n",
       "  <tbody>\n",
       "    <tr>\n",
       "      <th>0</th>\n",
       "      <td>ham</td>\n",
       "      <td>Go until jurong point, crazy.. Available only ...</td>\n",
       "      <td>NaN</td>\n",
       "      <td>NaN</td>\n",
       "      <td>NaN</td>\n",
       "    </tr>\n",
       "    <tr>\n",
       "      <th>1</th>\n",
       "      <td>ham</td>\n",
       "      <td>Ok lar... Joking wif u oni...</td>\n",
       "      <td>NaN</td>\n",
       "      <td>NaN</td>\n",
       "      <td>NaN</td>\n",
       "    </tr>\n",
       "    <tr>\n",
       "      <th>2</th>\n",
       "      <td>spam</td>\n",
       "      <td>Free entry in 2 a wkly comp to win FA Cup fina...</td>\n",
       "      <td>NaN</td>\n",
       "      <td>NaN</td>\n",
       "      <td>NaN</td>\n",
       "    </tr>\n",
       "    <tr>\n",
       "      <th>3</th>\n",
       "      <td>ham</td>\n",
       "      <td>U dun say so early hor... U c already then say...</td>\n",
       "      <td>NaN</td>\n",
       "      <td>NaN</td>\n",
       "      <td>NaN</td>\n",
       "    </tr>\n",
       "    <tr>\n",
       "      <th>4</th>\n",
       "      <td>ham</td>\n",
       "      <td>Nah I don't think he goes to usf, he lives aro...</td>\n",
       "      <td>NaN</td>\n",
       "      <td>NaN</td>\n",
       "      <td>NaN</td>\n",
       "    </tr>\n",
       "  </tbody>\n",
       "</table>\n",
       "</div>"
      ],
      "text/plain": [
       "     v1                                                 v2 Unnamed: 2  \\\n",
       "0   ham  Go until jurong point, crazy.. Available only ...        NaN   \n",
       "1   ham                      Ok lar... Joking wif u oni...        NaN   \n",
       "2  spam  Free entry in 2 a wkly comp to win FA Cup fina...        NaN   \n",
       "3   ham  U dun say so early hor... U c already then say...        NaN   \n",
       "4   ham  Nah I don't think he goes to usf, he lives aro...        NaN   \n",
       "\n",
       "  Unnamed: 3 Unnamed: 4  \n",
       "0        NaN        NaN  \n",
       "1        NaN        NaN  \n",
       "2        NaN        NaN  \n",
       "3        NaN        NaN  \n",
       "4        NaN        NaN  "
      ]
     },
     "execution_count": 13,
     "metadata": {},
     "output_type": "execute_result"
    }
   ],
   "source": [
    "#spam est notre dataframe\n",
    "spam = pd.read_csv(\"spam.csv\", encoding = \"ISO-8859-1\")\n",
    "spam.head()"
   ]
  },
  {
   "cell_type": "markdown",
   "id": "c85ebf72",
   "metadata": {},
   "source": [
    "   <h4 style='color:red'>Remarque:</h4>\n",
    "\n",
    "- ASCII : 7 bits. 128 points de code.\n",
    "\n",
    "- ISO-8859-1: 8 bits. 256 points de code.\n",
    "\n",
    "- UTF-8 : 8-32 bits (1-4 octets). 1 112 064 points de code.\n",
    "\n",
    "- ISO-8859-1 et UTF-8 sont rétrocompatibles avec ASCII, mais UTF-8 n’est pas rétrocompatible avec ISO-8859-1."
   ]
  },
  {
   "cell_type": "markdown",
   "id": "9309e34f",
   "metadata": {},
   "source": [
    "* **Voir plus d'information sur nos variables**"
   ]
  },
  {
   "cell_type": "code",
   "execution_count": 14,
   "id": "5ed302aa",
   "metadata": {},
   "outputs": [
    {
     "name": "stdout",
     "output_type": "stream",
     "text": [
      "<class 'pandas.core.frame.DataFrame'>\n",
      "RangeIndex: 5572 entries, 0 to 5571\n",
      "Data columns (total 5 columns):\n",
      " #   Column      Non-Null Count  Dtype \n",
      "---  ------      --------------  ----- \n",
      " 0   v1          5572 non-null   object\n",
      " 1   v2          5572 non-null   object\n",
      " 2   Unnamed: 2  50 non-null     object\n",
      " 3   Unnamed: 3  12 non-null     object\n",
      " 4   Unnamed: 4  6 non-null      object\n",
      "dtypes: object(5)\n",
      "memory usage: 217.8+ KB\n"
     ]
    }
   ],
   "source": [
    "spam.info()"
   ]
  },
  {
   "cell_type": "markdown",
   "id": "08d17cf3",
   "metadata": {},
   "source": [
    "* **Calculer le nombre des valeurs nulles**"
   ]
  },
  {
   "cell_type": "code",
   "execution_count": 15,
   "id": "3ee37c1f",
   "metadata": {},
   "outputs": [
    {
     "data": {
      "text/plain": [
       "v1               0\n",
       "v2               0\n",
       "Unnamed: 2    5522\n",
       "Unnamed: 3    5560\n",
       "Unnamed: 4    5566\n",
       "dtype: int64"
      ]
     },
     "execution_count": 15,
     "metadata": {},
     "output_type": "execute_result"
    }
   ],
   "source": [
    "spam.isnull().sum()"
   ]
  },
  {
   "cell_type": "markdown",
   "id": "bb60cc51",
   "metadata": {},
   "source": [
    "- **Supprimer les valeurs nulles**"
   ]
  },
  {
   "cell_type": "code",
   "execution_count": 16,
   "id": "80319071",
   "metadata": {},
   "outputs": [
    {
     "data": {
      "text/html": [
       "<div>\n",
       "<style scoped>\n",
       "    .dataframe tbody tr th:only-of-type {\n",
       "        vertical-align: middle;\n",
       "    }\n",
       "\n",
       "    .dataframe tbody tr th {\n",
       "        vertical-align: top;\n",
       "    }\n",
       "\n",
       "    .dataframe thead th {\n",
       "        text-align: right;\n",
       "    }\n",
       "</style>\n",
       "<table border=\"1\" class=\"dataframe\">\n",
       "  <thead>\n",
       "    <tr style=\"text-align: right;\">\n",
       "      <th></th>\n",
       "      <th>v1</th>\n",
       "      <th>v2</th>\n",
       "    </tr>\n",
       "  </thead>\n",
       "  <tbody>\n",
       "    <tr>\n",
       "      <th>0</th>\n",
       "      <td>ham</td>\n",
       "      <td>Go until jurong point, crazy.. Available only ...</td>\n",
       "    </tr>\n",
       "    <tr>\n",
       "      <th>1</th>\n",
       "      <td>ham</td>\n",
       "      <td>Ok lar... Joking wif u oni...</td>\n",
       "    </tr>\n",
       "    <tr>\n",
       "      <th>2</th>\n",
       "      <td>spam</td>\n",
       "      <td>Free entry in 2 a wkly comp to win FA Cup fina...</td>\n",
       "    </tr>\n",
       "    <tr>\n",
       "      <th>3</th>\n",
       "      <td>ham</td>\n",
       "      <td>U dun say so early hor... U c already then say...</td>\n",
       "    </tr>\n",
       "    <tr>\n",
       "      <th>4</th>\n",
       "      <td>ham</td>\n",
       "      <td>Nah I don't think he goes to usf, he lives aro...</td>\n",
       "    </tr>\n",
       "  </tbody>\n",
       "</table>\n",
       "</div>"
      ],
      "text/plain": [
       "     v1                                                 v2\n",
       "0   ham  Go until jurong point, crazy.. Available only ...\n",
       "1   ham                      Ok lar... Joking wif u oni...\n",
       "2  spam  Free entry in 2 a wkly comp to win FA Cup fina...\n",
       "3   ham  U dun say so early hor... U c already then say...\n",
       "4   ham  Nah I don't think he goes to usf, he lives aro..."
      ]
     },
     "execution_count": 16,
     "metadata": {},
     "output_type": "execute_result"
    }
   ],
   "source": [
    "df=spam.drop([\"Unnamed: 2\", \"Unnamed: 3\", \"Unnamed: 4\"], axis=1)\n",
    "df.head()"
   ]
  },
  {
   "cell_type": "markdown",
   "id": "dc83866e",
   "metadata": {},
   "source": [
    "- **Renommer nos variables restantes (v1 et v2)**"
   ]
  },
  {
   "cell_type": "code",
   "execution_count": 17,
   "id": "2bf1bd8a",
   "metadata": {},
   "outputs": [
    {
     "data": {
      "text/html": [
       "<div>\n",
       "<style scoped>\n",
       "    .dataframe tbody tr th:only-of-type {\n",
       "        vertical-align: middle;\n",
       "    }\n",
       "\n",
       "    .dataframe tbody tr th {\n",
       "        vertical-align: top;\n",
       "    }\n",
       "\n",
       "    .dataframe thead th {\n",
       "        text-align: right;\n",
       "    }\n",
       "</style>\n",
       "<table border=\"1\" class=\"dataframe\">\n",
       "  <thead>\n",
       "    <tr style=\"text-align: right;\">\n",
       "      <th></th>\n",
       "      <th>SPAMvsHAM</th>\n",
       "      <th>Message</th>\n",
       "    </tr>\n",
       "  </thead>\n",
       "  <tbody>\n",
       "    <tr>\n",
       "      <th>0</th>\n",
       "      <td>ham</td>\n",
       "      <td>Go until jurong point, crazy.. Available only ...</td>\n",
       "    </tr>\n",
       "    <tr>\n",
       "      <th>1</th>\n",
       "      <td>ham</td>\n",
       "      <td>Ok lar... Joking wif u oni...</td>\n",
       "    </tr>\n",
       "    <tr>\n",
       "      <th>2</th>\n",
       "      <td>spam</td>\n",
       "      <td>Free entry in 2 a wkly comp to win FA Cup fina...</td>\n",
       "    </tr>\n",
       "    <tr>\n",
       "      <th>3</th>\n",
       "      <td>ham</td>\n",
       "      <td>U dun say so early hor... U c already then say...</td>\n",
       "    </tr>\n",
       "    <tr>\n",
       "      <th>4</th>\n",
       "      <td>ham</td>\n",
       "      <td>Nah I don't think he goes to usf, he lives aro...</td>\n",
       "    </tr>\n",
       "  </tbody>\n",
       "</table>\n",
       "</div>"
      ],
      "text/plain": [
       "  SPAMvsHAM                                            Message\n",
       "0       ham  Go until jurong point, crazy.. Available only ...\n",
       "1       ham                      Ok lar... Joking wif u oni...\n",
       "2      spam  Free entry in 2 a wkly comp to win FA Cup fina...\n",
       "3       ham  U dun say so early hor... U c already then say...\n",
       "4       ham  Nah I don't think he goes to usf, he lives aro..."
      ]
     },
     "execution_count": 17,
     "metadata": {},
     "output_type": "execute_result"
    }
   ],
   "source": [
    "df.rename(columns={\"v1\": \"SPAMvsHAM\", \"v2\": \"Message\"}, inplace=True)\n",
    "df.head()"
   ]
  },
  {
   "cell_type": "markdown",
   "id": "204141c6",
   "metadata": {},
   "source": [
    " * **Vèrifier la taille du dernier dataframe**"
   ]
  },
  {
   "cell_type": "code",
   "execution_count": 18,
   "id": "9104fb99",
   "metadata": {},
   "outputs": [
    {
     "data": {
      "text/plain": [
       "(5572, 2)"
      ]
     },
     "execution_count": 18,
     "metadata": {},
     "output_type": "execute_result"
    }
   ],
   "source": [
    "df.shape"
   ]
  },
  {
   "cell_type": "markdown",
   "id": "acc93a42",
   "metadata": {},
   "source": [
    "## Visualisation des données "
   ]
  },
  {
   "cell_type": "markdown",
   "id": "59e4f831",
   "metadata": {},
   "source": [
    "- **Visualiser la première colonne de \"SPAMvsHAM\"**"
   ]
  },
  {
   "cell_type": "code",
   "execution_count": 26,
   "id": "10e805ba",
   "metadata": {},
   "outputs": [
    {
     "data": {
      "text/plain": [
       "Text(0.5, 1.0, 'Nombre de messages Email SPAM et HAM')"
      ]
     },
     "execution_count": 26,
     "metadata": {},
     "output_type": "execute_result"
    },
    {
     "data": {
      "image/png": "[encoded data removed]",
      "text/plain": [
       "<Figure size 500x500 with 1 Axes>"
      ]
     },
     "metadata": {},
     "output_type": "display_data"
    }
   ],
   "source": [
    "sns.displot(df['SPAMvsHAM'], palette='YlOrRd')\n",
    "plt.xlabel('Spam ou Ham')\n",
    "plt.ylabel('Nombre de messages Email')\n",
    "plt.title('Nombre de messages Email SPAM et HAM')"
   ]
  },
  {
   "cell_type": "markdown",
   "id": "ecc0d17e",
   "metadata": {},
   "source": [
    "> # 3. Pré-traitement des données \"Pre-processing\""
   ]
  },
  {
   "cell_type": "markdown",
   "id": "39c4427f",
   "metadata": {},
   "source": [
    "Le prétraitement fait référence aux **transformations** appliquées à nos données avant de les alimenter dans l’algorithme. Le prétraitement des données est une technique utilisée pour convertir les données **brutes** en un ensemble de données **propre.* \n",
    "\n",
    "- Si les données non structurées sont utilisées dans des modèles Machine Learning pour analyser ou prédire, la prédiction sera fausse car les données non structurées contiennent des valeurs manquantes et des données indésirables. Donc, pour une bonne prédiction, les données doivent être prétraitées.\n",
    "\n",
    "Pour ce faire, on doit utiliser une bibliothèque Python open source très puissante **Scikit-learn**, labelisée: ***sklearn**."
   ]
  },
  {
   "cell_type": "markdown",
   "id": "92d98f9d",
   "metadata": {},
   "source": [
    "<h3 style='color:Orange'>Scikit-learn</h3> \n",
    "    \n",
    "    C'est une bibliothèque Python open source qui implémente une gamme d’algorithmes d’apprentissage automatique, de prétraitement, de validation croisée et de visualisation à l’aide d’une interface unifiée. Elle prend en charge l’apprentissage automatique supervisé et non supervisé, fournissant divers algorithmes pour la classification, la régression, le clustering et la réduction de dimensionnalité. La bibliothèque est construite à l’aide de nombreuses bibliothèques telles que NumPy et SciPy. Elle fonctionne également bien avec d’autres bibliothèques, telles que Pandas et Seaborn."
   ]
  },
  {
   "cell_type": "markdown",
   "id": "dc0c106c",
   "metadata": {},
   "source": [
    "Dans ce projet et à cette étape, nous allons convertir la colonne catégorielle de **SPAMvsHAM** en une colonne numérique où *Spam=1* et *Ham=0* et nous avons choisi la technique de Label Encoding. Voir ci-dessous: "
   ]
  },
  {
   "cell_type": "markdown",
   "id": "d8a5d84c",
   "metadata": {},
   "source": [
    "## Numérisation des variables (Label Encoding)"
   ]
  },
  {
   "cell_type": "markdown",
   "id": "fdbfa448",
   "metadata": {},
   "source": [
    "* Label Encoding ou l'encodage d'étiquettes est une technique utilisée pour convertir des colonnes catégorielles en colonnes numériques afin qu’elles puissent être ajustées par des modèles d’apprentissage automatique qui ne prennent que des données numériques. Il s’agit d’une étape de prétraitement importante dans un projet d’apprentissage automatique."
   ]
  },
  {
   "cell_type": "code",
   "execution_count": 27,
   "id": "907d76d7",
   "metadata": {},
   "outputs": [],
   "source": [
    "from sklearn.preprocessing import LabelEncoder"
   ]
  },
  {
   "cell_type": "code",
   "execution_count": 32,
   "id": "7434b109",
   "metadata": {},
   "outputs": [],
   "source": [
    "inputs_X = df.Message   # it better to use X instead of inputs_X\n",
    "target_Y = df.SPAMvsHAM # use y instead of target_y                               The naming is important in programing :)\n",
    "le = LabelEncoder()\n",
    "target_Y = le.fit_transform(target_Y)\n",
    "target_Y = target_Y.reshape(-1,1) # Remodeler target_Y en n lignes et une colonne"
   ]
  },
  {
   "cell_type": "code",
   "execution_count": 33,
   "id": "ed4381b9",
   "metadata": {},
   "outputs": [
    {
     "data": {
      "text/plain": [
       "array([[0],\n",
       "       [0],\n",
       "       [1],\n",
       "       ...,\n",
       "       [0],\n",
       "       [0],\n",
       "       [0]])"
      ]
     },
     "execution_count": 33,
     "metadata": {},
     "output_type": "execute_result"
    }
   ],
   "source": [
    "target_Y"
   ]
  },
  {
   "cell_type": "markdown",
   "id": "710f4c91",
   "metadata": {},
   "source": [
    "## Division en jeu de données Train et Test "
   ]
  },
  {
   "cell_type": "markdown",
   "id": "969592d8",
   "metadata": {},
   "source": [
    "Ici, nous arrivons à l'étape de division de notre jeu de données en ensemble ***Train*** (apprentissage/entrainement) et ***Test*** (validation).\n",
    "La division train-test est utilisée pour estimer les performances des algorithmes d’apprentissage automatique applicables aux algorithmes/applications basés sur la prédiction. \n",
    "  Son objectif est de pouvoir comparer les résultats de notre propre modèle d’apprentissage automatique aux résultats de la machine. Par défaut, l’ensemble de tests (ou de validation) est divisé en 30 % des données réelles et l’ensemble d’apprentissage (d'entrainement) est divisé en 70 % des données réelles.\n",
    "\n",
    "- *L'ensemble de test est uniquement utilisé pour les prédictions.*\n",
    "\n",
    "La bibliothèque **scikit-learn** nous fournit le module **model_selection** dans lequel nous avons la fonction de division **train_test_split().**"
   ]
  },
  {
   "cell_type": "code",
   "execution_count": 34,
   "id": "127340d9",
   "metadata": {},
   "outputs": [],
   "source": [
    "from sklearn.model_selection import train_test_split"
   ]
  },
  {
   "cell_type": "code",
   "execution_count": 40,
   "id": "b0a963d5",
   "metadata": {},
   "outputs": [],
   "source": [
    "X_train, X_test, Y_train, Y_test = train_test_split(inputs_X, target_Y, test_size = 0.2, random_state = 30) # We have X, y(tiny) change Y_test, Y_train by y_test, y_train \n",
    "# you have annouced in the Markdown above that you've the dataset into 30% and 70% but we see here \"test_size = 0.2\" be carfull when you copy something from the internet\n",
    "# you announce things in the markdown, we need to find them in the code :)"
   ]
  },
  {
   "cell_type": "markdown",
   "id": "fa268cfc",
   "metadata": {},
   "source": [
    "**random state: int, RandomState instance ou None, default=None**  \n",
    "Contrôle la lecture aléatoire appliquée aux données avant d’appliquer le fractionnement. Passez un int pour une sortie reproductible sur plusieurs appels de fonction. "
   ]
  },
  {
   "cell_type": "code",
   "execution_count": 42,
   "id": "c61c4fe2",
   "metadata": {},
   "outputs": [
    {
     "name": "stdout",
     "output_type": "stream",
     "text": [
      "5572\n",
      "(4457,) 0.8 %\n",
      "(1115,) 0.2 %\n"
     ]
    }
   ],
   "source": [
    "# Voir les taille des différentes variables\n",
    "# print(inputs_X.shape)\n",
    "# print(X_train.shape)\n",
    "# print(X_test.shape)\n",
    "\n",
    "# this view gives us no information about the propotions you got avec division so let's try this :)\n",
    "print(inputs_X.shape[0])\n",
    "print(X_train.shape, round(X_train.shape[0]/inputs_X.shape[0], 2),'%')\n",
    "print(X_test.shape, round(X_test.shape[0]/inputs_X.shape[0], 2),'%')\n",
    "# we remark that there is a mistake (20%-80%) not the (30%-70%) annouced above "
   ]
  },
  {
   "cell_type": "markdown",
   "id": "ca06fb06",
   "metadata": {},
   "source": [
    "## Extraction des caractéristiques / fonctionnalités"
   ]
  },
  {
   "cell_type": "markdown",
   "id": "d761ae0d",
   "metadata": {},
   "source": [
    "La mise à l’échelle des caractéristiques est une technique utilisée pour normaliser les variables indépendantes.\n",
    "- Le but est d'extraire des fonctionnalités dans un format pris en charge par des algorithmes d’apprentissage automatique à partir d’ensembles de données composé de formats tels que: texte et image.  "
   ]
  },
  {
   "cell_type": "markdown",
   "id": "b9f9bf05",
   "metadata": {},
   "source": [
    "Nous appelons **TfidfVectorizer**, le processus général de transformation d’une collection des documents texte en vecteurs d’entités numériques.  En d'autre terme, *convertir une collection de documents bruts en une matrice de fonctionnalités TF-IDF.*\n",
    "- Les documents sont décrits par mot tout en ignorant complètement les informations relatives à la position des mots du document. "
   ]
  },
  {
   "cell_type": "markdown",
   "id": "d3b52d87",
   "metadata": {},
   "source": [
    "<h4 style='color:red'>Exemple sur 'TfidfVectorize'</h4>"
   ]
  },
  {
   "cell_type": "code",
   "execution_count": 43,
   "id": "50bbec9e",
   "metadata": {},
   "outputs": [
    {
     "data": {
      "text/plain": [
       "array(['and', 'document', 'first', 'is', 'one', 'second', 'the', 'third',\n",
       "       'this'], dtype=object)"
      ]
     },
     "execution_count": 43,
     "metadata": {},
     "output_type": "execute_result"
    }
   ],
   "source": [
    "import numpy as np # you've imported it already above ^^\n",
    "from sklearn.feature_extraction.text import TfidfVectorizer\n",
    "corpus = [\n",
    "     'This is the first document.',\n",
    "     'This document is the second document.',\n",
    "     'And this is the third one.',\n",
    "     'Is this the first document?',\n",
    " ]\n",
    "vectorizer = TfidfVectorizer()\n",
    "X = vectorizer.fit_transform(corpus)\n",
    "vectorizer.get_feature_names_out()"
   ]
  },
  {
   "cell_type": "markdown",
   "id": "c99a1ea2",
   "metadata": {},
   "source": [
    "**Pour notre cas!** Transformons les données texte **inputs_X** à des vecteurs fonctionnalités qui peuvent être utilisés comme des variables explicatives (des entrées) pour les différents modèles que nous déployerons par la suite.  "
   ]
  },
  {
   "cell_type": "code",
   "execution_count": 52,
   "id": "f75937f1",
   "metadata": {},
   "outputs": [],
   "source": [
    "from sklearn.feature_extraction.text import TfidfVectorizer # duplicates import"
   ]
  },
  {
   "cell_type": "code",
   "execution_count": 53,
   "id": "a71de034",
   "metadata": {},
   "outputs": [],
   "source": [
    "feature_extraction=TfidfVectorizer(min_df=1, stop_words='english', lowercase=True)"
   ]
  },
  {
   "cell_type": "markdown",
   "id": "9ae08974",
   "metadata": {},
   "source": [
    "**min_df=1:** Si le mot est repete qu'une seule fois, nous pouvons l'ignorer car il ne sera pa utile pour notre prediction, de plus, il ne va figurer dans la liste des mots de sortie.  \n",
    "**stop_words='english':** S’il s’agit d’une chaîne, elle est transmise à _check_stop_list et le stop approprié est renvoyée.'English' est actuellement la seule chaîne prise en charge valeur. Il contient tout les mots en anglais qui ne peuvent pas etre utile pour notre requêtte, tels que: etc, is, was, ... Donc, ils seront ignorés.   \n",
    "**lowercase='True', par defaut=True:** Convertir tous les caractères en minuscules avant de les tokeniser (vectoriser)."
   ]
  },
  {
   "cell_type": "code",
   "execution_count": 54,
   "id": "f990dc26",
   "metadata": {},
   "outputs": [],
   "source": [
    "#Transformer et Entrainer les données de X_train et X_test à des vecteurs de données numériques.\n",
    "X_train_features=feature_extraction.fit_transform(X_train) # X_train is the final name of the train set you should not change it at this level of the processus \n",
    "X_test_features=feature_extraction.transform(X_test) # same here\n",
    "\n",
    "# We strat our process by pre-processing then the split\n",
    "# So you should here use the vectorizer then the split to X_train, X_test \n",
    "\n",
    "#Unifier également Y_train et Y_test à des valeurs de type entier\n",
    "Y_train=Y_train.astype('int')\n",
    "Y_test=Y_test.astype('int')"
   ]
  },
  {
   "cell_type": "markdown",
   "id": "2b38bd96",
   "metadata": {},
   "source": [
    "> # 4. Modélisation"
   ]
  },
  {
   "cell_type": "markdown",
   "id": "14c87722",
   "metadata": {},
   "source": [
    "<h2 style='color:orange'; align='center'>Application du modèle de Régression Logistique</h2>"
   ]
  },
  {
   "cell_type": "markdown",
   "id": "cc81e91b",
   "metadata": {},
   "source": [
    "## Entrainement du modèle "
   ]
  },
  {
   "cell_type": "code",
   "execution_count": 1,
   "id": "d32078da",
   "metadata": {},
   "outputs": [],
   "source": [
    "from sklearn.linear_model import LogisticRegression\n",
    "model1 = LogisticRegression() #try to never call your model by model1, model2,.... instead use the 2 capital letters of the model in this case it lr = LogisticRegression()"
   ]
  },
  {
   "cell_type": "code",
   "execution_count": 56,
   "id": "5762ac59",
   "metadata": {},
   "outputs": [
    {
     "data": {
      "text/html": [
       "<style>#sk-container-id-3 {color: black;background-color: white;}#sk-container-id-3 pre{padding: 0;}#sk-container-id-3 div.sk-toggleable {background-color: white;}#sk-container-id-3 label.sk-toggleable__label {cursor: pointer;display: block;width: 100%;margin-bottom: 0;padding: 0.3em;box-sizing: border-box;text-align: center;}#sk-container-id-3 label.sk-toggleable__label-arrow:before {content: \"▸\";float: left;margin-right: 0.25em;color: #696969;}#sk-container-id-3 label.sk-toggleable__label-arrow:hover:before {color: black;}#sk-container-id-3 div.sk-estimator:hover label.sk-toggleable__label-arrow:before {color: black;}#sk-container-id-3 div.sk-toggleable__content {max-height: 0;max-width: 0;overflow: hidden;text-align: left;background-color: #f0f8ff;}#sk-container-id-3 div.sk-toggleable__content pre {margin: 0.2em;color: black;border-radius: 0.25em;background-color: #f0f8ff;}#sk-container-id-3 input.sk-toggleable__control:checked~div.sk-toggleable__content {max-height: 200px;max-width: 100%;overflow: auto;}#sk-container-id-3 input.sk-toggleable__control:checked~label.sk-toggleable__label-arrow:before {content: \"▾\";}#sk-container-id-3 div.sk-estimator input.sk-toggleable__control:checked~label.sk-toggleable__label {background-color: #d4ebff;}#sk-container-id-3 div.sk-label input.sk-toggleable__control:checked~label.sk-toggleable__label {background-color: #d4ebff;}#sk-container-id-3 input.sk-hidden--visually {border: 0;clip: rect(1px 1px 1px 1px);clip: rect(1px, 1px, 1px, 1px);height: 1px;margin: -1px;overflow: hidden;padding: 0;position: absolute;width: 1px;}#sk-container-id-3 div.sk-estimator {font-family: monospace;background-color: #f0f8ff;border: 1px dotted black;border-radius: 0.25em;box-sizing: border-box;margin-bottom: 0.5em;}#sk-container-id-3 div.sk-estimator:hover {background-color: #d4ebff;}#sk-container-id-3 div.sk-parallel-item::after {content: \"\";width: 100%;border-bottom: 1px solid gray;flex-grow: 1;}#sk-container-id-3 div.sk-label:hover label.sk-toggleable__label {background-color: #d4ebff;}#sk-container-id-3 div.sk-serial::before {content: \"\";position: absolute;border-left: 1px solid gray;box-sizing: border-box;top: 0;bottom: 0;left: 50%;z-index: 0;}#sk-container-id-3 div.sk-serial {display: flex;flex-direction: column;align-items: center;background-color: white;padding-right: 0.2em;padding-left: 0.2em;position: relative;}#sk-container-id-3 div.sk-item {position: relative;z-index: 1;}#sk-container-id-3 div.sk-parallel {display: flex;align-items: stretch;justify-content: center;background-color: white;position: relative;}#sk-container-id-3 div.sk-item::before, #sk-container-id-3 div.sk-parallel-item::before {content: \"\";position: absolute;border-left: 1px solid gray;box-sizing: border-box;top: 0;bottom: 0;left: 50%;z-index: -1;}#sk-container-id-3 div.sk-parallel-item {display: flex;flex-direction: column;z-index: 1;position: relative;background-color: white;}#sk-container-id-3 div.sk-parallel-item:first-child::after {align-self: flex-end;width: 50%;}#sk-container-id-3 div.sk-parallel-item:last-child::after {align-self: flex-start;width: 50%;}#sk-container-id-3 div.sk-parallel-item:only-child::after {width: 0;}#sk-container-id-3 div.sk-dashed-wrapped {border: 1px dashed gray;margin: 0 0.4em 0.5em 0.4em;box-sizing: border-box;padding-bottom: 0.4em;background-color: white;}#sk-container-id-3 div.sk-label label {font-family: monospace;font-weight: bold;display: inline-block;line-height: 1.2em;}#sk-container-id-3 div.sk-label-container {text-align: center;}#sk-container-id-3 div.sk-container {/* jupyter's `normalize.less` sets `[hidden] { display: none; }` but bootstrap.min.css set `[hidden] { display: none !important; }` so we also need the `!important` here to be able to override the default hidden behavior on the sphinx rendered scikit-learn.org. See: https://github.com/scikit-learn/scikit-learn/issues/21755 */display: inline-block !important;position: relative;}#sk-container-id-3 div.sk-text-repr-fallback {display: none;}</style><div id=\"sk-container-id-3\" class=\"sk-top-container\"><div class=\"sk-text-repr-fallback\"><pre>LogisticRegression()</pre><b>In a Jupyter environment, please rerun this cell to show the HTML representation or trust the notebook. <br />On GitHub, the HTML representation is unable to render, please try loading this page with nbviewer.org.</b></div><div class=\"sk-container\" hidden><div class=\"sk-item\"><div class=\"sk-estimator sk-toggleable\"><input class=\"sk-toggleable__control sk-hidden--visually\" id=\"sk-estimator-id-3\" type=\"checkbox\" checked><label for=\"sk-estimator-id-3\" class=\"sk-toggleable__label sk-toggleable__label-arrow\">LogisticRegression</label><div class=\"sk-toggleable__content\"><pre>LogisticRegression()</pre></div></div></div></div></div>"
      ],
      "text/plain": [
       "LogisticRegression()"
      ]
     },
     "execution_count": 56,
     "metadata": {},
     "output_type": "execute_result"
    }
   ],
   "source": [
    "# Entrainer le modèle de Régression Logistique en utilisant les données de 'Train'\n",
    "model1.fit(X_train_features, Y_train)"
   ]
  },
  {
   "cell_type": "markdown",
   "id": "69afafdc",
   "metadata": {},
   "source": [
    "## Evaluation du modèle "
   ]
  },
  {
   "cell_type": "markdown",
   "id": "d7c65e5f",
   "metadata": {},
   "source": [
    "<h6 style='color:tan'>  Données de validation </h6>"
   ]
  },
  {
   "cell_type": "code",
   "execution_count": 57,
   "id": "fd46dee2",
   "metadata": {},
   "outputs": [
    {
     "data": {
      "text/plain": [
       "array([0, 0, 0, ..., 0, 0, 0])"
      ]
     },
     "execution_count": 57,
     "metadata": {},
     "output_type": "execute_result"
    }
   ],
   "source": [
    "# Prédiction avec les données X_train_features\n",
    "prediction_X_train = model1.predict(X_train_features) # this part is false cause you're trying to predict the data your model learned on ^^\n",
    "prediction_X_train \n",
    "\n",
    "# we do this like that \n",
    "y_pred = model1.predict(X_test)"
   ]
  },
  {
   "cell_type": "code",
   "execution_count": 58,
   "id": "5fb83daf",
   "metadata": {},
   "outputs": [
    {
     "name": "stdout",
     "output_type": "stream",
     "text": [
      "La précision des données de validation X_train_features est à :  0.9699349338119811 %\n"
     ]
    }
   ],
   "source": [
    "# Calculer leur précision \n",
    "from sklearn.metrics import accuracy_score\n",
    "accuracy_X_train = accuracy_score(Y_train, prediction_X_train) # False we try to score the model on the test and predicted\n",
    "# we do like that \n",
    "accuracy = accuracy_score(Y_test, y_pred)\n",
    "print('La précision des données de validation X_train_features est à : ', accuracy,'%') # change the text in the print cause it not the validation (you dont have a vaidation set in this code )"
   ]
  },
  {
   "cell_type": "markdown",
   "id": "5b78c3ba",
   "metadata": {},
   "source": [
    "<h6 style='color:tan'>  Données de test </h6>"
   ]
  },
  {
   "cell_type": "code",
   "execution_count": 59,
   "id": "e5ba15d4",
   "metadata": {},
   "outputs": [
    {
     "data": {
      "text/plain": [
       "array([0, 0, 0, ..., 0, 0, 0])"
      ]
     },
     "execution_count": 59,
     "metadata": {},
     "output_type": "execute_result"
    }
   ],
   "source": [
    "# Prédiction avec les données de test 'X_test_features'\n",
    "prediction_X_test = model1.predict(X_test_features)\n",
    "prediction_X_test #corrected above "
   ]
  },
  {
   "cell_type": "code",
   "execution_count": 60,
   "id": "2ca836f8",
   "metadata": {},
   "outputs": [
    {
     "name": "stdout",
     "output_type": "stream",
     "text": [
      "La précision des données de test X_test_features est à :  0.9560538116591928 %\n"
     ]
    }
   ],
   "source": [
    "# Leur précision\n",
    "accuracy_X_test = accuracy_score(Y_test, prediction_X_test) # faux\n",
    "print('La précision des données de test X_test_features est à : ', accuracy_X_test, '%') # i've corrected this above"
   ]
  },
  {
   "cell_type": "markdown",
   "id": "414e41c9",
   "metadata": {},
   "source": [
    "<h2 style='color:orange'; align='center'>Application du modèle de Naive Bayes</h2>"
   ]
  },
  {
   "cell_type": "markdown",
   "id": "36f3ee19",
   "metadata": {},
   "source": [
    "## Entrainement du modèle "
   ]
  },
  {
   "cell_type": "code",
   "execution_count": 61,
   "id": "c6c0e2c1",
   "metadata": {},
   "outputs": [],
   "source": [
    "from sklearn.naive_bayes import MultinomialNB"
   ]
  },
  {
   "cell_type": "markdown",
   "id": "2c3d9efa",
   "metadata": {},
   "source": [
    "* **MultinomialNB; Naive Bayes multinomial:** Les vecteurs de caractéristiques (features) représentent les fréquences avec lesquelles certains événements ont été générés par une distribution multinomiale. Il s’agit du modèle d’événement généralement utilisé pour la classification des documents."
   ]
  },
  {
   "cell_type": "code",
   "execution_count": 62,
   "id": "3804eba4",
   "metadata": {},
   "outputs": [],
   "source": [
    "model2 = MultinomialNB()\n",
    "model2=model2.fit(X_train_features, Y_train)"
   ]
  },
  {
   "cell_type": "markdown",
   "id": "38bf3beb",
   "metadata": {},
   "source": [
    "## Evaluation du modèle "
   ]
  },
  {
   "cell_type": "code",
   "execution_count": 63,
   "id": "d9e8e125",
   "metadata": {},
   "outputs": [
    {
     "data": {
      "text/plain": [
       "array([0, 0, 0, ..., 0, 0, 0])"
      ]
     },
     "execution_count": 63,
     "metadata": {},
     "output_type": "execute_result"
    }
   ],
   "source": [
    "prediction2=model2.predict(X_test_features)\n",
    "prediction2"
   ]
  },
  {
   "cell_type": "code",
   "execution_count": 64,
   "id": "46bb0fda",
   "metadata": {},
   "outputs": [
    {
     "name": "stdout",
     "output_type": "stream",
     "text": [
      "La précision donnée par Naive Bayes est à :  0.968609865470852 %\n"
     ]
    }
   ],
   "source": [
    "accuracy2_X_test = accuracy_score(Y_test, prediction2)\n",
    "print('La précision donnée par Naive Bayes est à : ', accuracy2_X_test,'%')"
   ]
  },
  {
   "cell_type": "markdown",
   "id": "1bdbc479",
   "metadata": {},
   "source": [
    "> <h4 style='color:#ef8137'> IDEE! </h4> <h5 style='color:#682d05'> Pouvons-nous avoir un rapport complet sur toutes les métriques de performance en une ligne de code !?  </h5>"
   ]
  },
  {
   "cell_type": "markdown",
   "id": "d9344bce",
   "metadata": {},
   "source": [
    "<h5 style='color:#ef8137'> <blockquote> Bien sûr! En utilisant Classification Report </blockquote> </h5>"
   ]
  },
  {
   "cell_type": "markdown",
   "id": "b26ca00e",
   "metadata": {},
   "source": [
    "<h5 style='color:#682d05'>Qu’est-ce qu’un rapport de classification?</h5>\n",
    "\n",
    "Comme son nom l’indique, c’est le rapport qui explique tout sur la classification. Il s’agit du résumé de la qualité de la classification effectuée par le modèle ML construit. Il comprend principalement 5 colonnes et (N+3) lignes. La première colonne est le nom de l’étiquette de classe et est suivie de Précision, Recall, F1-score et Support. N lignes sont pour les étiquettes de classe N et les trois autres lignes sont pour la précision, la moyenne macro et la moyenne pondérée.\n",
    "\n",
    "**Précision:** Il est calculé par rapport aux valeurs prévues. Pour la classe A, sur le total des prédictions, combien appartenaient réellement à la classe A dans l’ensemble de données réel, est défini comme la précision. C’est le rapport de la matrice de confusion de la cellule [i][i] et de la somme de la colonne [i].\n",
    "\n",
    "**Recall:** Il est calculé par rapport aux valeurs réelles dans l’ensemble de données. Pour la classe A, sur le nombre total d’entrées dans l’ensemble de données, le nombre d’entrées réellement classées dans la classe A par le modèle ML est défini comme le rappel. C’est le rapport de la matrice de confusion de la cellule [i][i] et de la somme de la ligne [i].\n",
    "\n",
    "**Score F1:** C’est le moyen harmonique de précision et de rappel.\n",
    "\n",
    "**Support:** Il s’agit du nombre total d’entrées de chaque classe dans le jeu de données réel. C’est simplement la somme des lignes pour chaque classe i."
   ]
  },
  {
   "cell_type": "code",
   "execution_count": 65,
   "id": "4ada02c5",
   "metadata": {},
   "outputs": [
    {
     "name": "stdout",
     "output_type": "stream",
     "text": [
      "Voici la rapport de classification du modèle Naive Bayes:               precision    recall  f1-score   support\n",
      "\n",
      "           0       0.97      1.00      0.98       970\n",
      "           1       1.00      0.76      0.86       145\n",
      "\n",
      "    accuracy                           0.97      1115\n",
      "   macro avg       0.98      0.88      0.92      1115\n",
      "weighted avg       0.97      0.97      0.97      1115\n",
      "\n"
     ]
    }
   ],
   "source": [
    "from sklearn.metrics import classification_report\n",
    "\n",
    "rap_classification=classification_report(Y_test, prediction2)\n",
    "print('Voici la rapport de classification du modèle Naive Bayes:\\n', rap_classification) #add \\n at the end to have your report on the same line "
   ]
  },
  {
   "cell_type": "markdown",
   "id": "9a03c7fb",
   "metadata": {},
   "source": [
    "<h2 style='color:orange'; align='center'>Application du modèle de Support Vector Machine (SVM)</h2>\n"
   ]
  },
  {
   "cell_type": "markdown",
   "id": "aa01195e",
   "metadata": {},
   "source": [
    "## Entrainement du modèle "
   ]
  },
  {
   "cell_type": "code",
   "execution_count": 66,
   "id": "c78001ce",
   "metadata": {},
   "outputs": [],
   "source": [
    "from sklearn import svm"
   ]
  },
  {
   "cell_type": "code",
   "execution_count": 67,
   "id": "cdfecebb",
   "metadata": {},
   "outputs": [
    {
     "data": {
      "text/html": [
       "<style>#sk-container-id-4 {color: black;background-color: white;}#sk-container-id-4 pre{padding: 0;}#sk-container-id-4 div.sk-toggleable {background-color: white;}#sk-container-id-4 label.sk-toggleable__label {cursor: pointer;display: block;width: 100%;margin-bottom: 0;padding: 0.3em;box-sizing: border-box;text-align: center;}#sk-container-id-4 label.sk-toggleable__label-arrow:before {content: \"▸\";float: left;margin-right: 0.25em;color: #696969;}#sk-container-id-4 label.sk-toggleable__label-arrow:hover:before {color: black;}#sk-container-id-4 div.sk-estimator:hover label.sk-toggleable__label-arrow:before {color: black;}#sk-container-id-4 div.sk-toggleable__content {max-height: 0;max-width: 0;overflow: hidden;text-align: left;background-color: #f0f8ff;}#sk-container-id-4 div.sk-toggleable__content pre {margin: 0.2em;color: black;border-radius: 0.25em;background-color: #f0f8ff;}#sk-container-id-4 input.sk-toggleable__control:checked~div.sk-toggleable__content {max-height: 200px;max-width: 100%;overflow: auto;}#sk-container-id-4 input.sk-toggleable__control:checked~label.sk-toggleable__label-arrow:before {content: \"▾\";}#sk-container-id-4 div.sk-estimator input.sk-toggleable__control:checked~label.sk-toggleable__label {background-color: #d4ebff;}#sk-container-id-4 div.sk-label input.sk-toggleable__control:checked~label.sk-toggleable__label {background-color: #d4ebff;}#sk-container-id-4 input.sk-hidden--visually {border: 0;clip: rect(1px 1px 1px 1px);clip: rect(1px, 1px, 1px, 1px);height: 1px;margin: -1px;overflow: hidden;padding: 0;position: absolute;width: 1px;}#sk-container-id-4 div.sk-estimator {font-family: monospace;background-color: #f0f8ff;border: 1px dotted black;border-radius: 0.25em;box-sizing: border-box;margin-bottom: 0.5em;}#sk-container-id-4 div.sk-estimator:hover {background-color: #d4ebff;}#sk-container-id-4 div.sk-parallel-item::after {content: \"\";width: 100%;border-bottom: 1px solid gray;flex-grow: 1;}#sk-container-id-4 div.sk-label:hover label.sk-toggleable__label {background-color: #d4ebff;}#sk-container-id-4 div.sk-serial::before {content: \"\";position: absolute;border-left: 1px solid gray;box-sizing: border-box;top: 0;bottom: 0;left: 50%;z-index: 0;}#sk-container-id-4 div.sk-serial {display: flex;flex-direction: column;align-items: center;background-color: white;padding-right: 0.2em;padding-left: 0.2em;position: relative;}#sk-container-id-4 div.sk-item {position: relative;z-index: 1;}#sk-container-id-4 div.sk-parallel {display: flex;align-items: stretch;justify-content: center;background-color: white;position: relative;}#sk-container-id-4 div.sk-item::before, #sk-container-id-4 div.sk-parallel-item::before {content: \"\";position: absolute;border-left: 1px solid gray;box-sizing: border-box;top: 0;bottom: 0;left: 50%;z-index: -1;}#sk-container-id-4 div.sk-parallel-item {display: flex;flex-direction: column;z-index: 1;position: relative;background-color: white;}#sk-container-id-4 div.sk-parallel-item:first-child::after {align-self: flex-end;width: 50%;}#sk-container-id-4 div.sk-parallel-item:last-child::after {align-self: flex-start;width: 50%;}#sk-container-id-4 div.sk-parallel-item:only-child::after {width: 0;}#sk-container-id-4 div.sk-dashed-wrapped {border: 1px dashed gray;margin: 0 0.4em 0.5em 0.4em;box-sizing: border-box;padding-bottom: 0.4em;background-color: white;}#sk-container-id-4 div.sk-label label {font-family: monospace;font-weight: bold;display: inline-block;line-height: 1.2em;}#sk-container-id-4 div.sk-label-container {text-align: center;}#sk-container-id-4 div.sk-container {/* jupyter's `normalize.less` sets `[hidden] { display: none; }` but bootstrap.min.css set `[hidden] { display: none !important; }` so we also need the `!important` here to be able to override the default hidden behavior on the sphinx rendered scikit-learn.org. See: https://github.com/scikit-learn/scikit-learn/issues/21755 */display: inline-block !important;position: relative;}#sk-container-id-4 div.sk-text-repr-fallback {display: none;}</style><div id=\"sk-container-id-4\" class=\"sk-top-container\"><div class=\"sk-text-repr-fallback\"><pre>SVC(kernel=&#x27;linear&#x27;)</pre><b>In a Jupyter environment, please rerun this cell to show the HTML representation or trust the notebook. <br />On GitHub, the HTML representation is unable to render, please try loading this page with nbviewer.org.</b></div><div class=\"sk-container\" hidden><div class=\"sk-item\"><div class=\"sk-estimator sk-toggleable\"><input class=\"sk-toggleable__control sk-hidden--visually\" id=\"sk-estimator-id-4\" type=\"checkbox\" checked><label for=\"sk-estimator-id-4\" class=\"sk-toggleable__label sk-toggleable__label-arrow\">SVC</label><div class=\"sk-toggleable__content\"><pre>SVC(kernel=&#x27;linear&#x27;)</pre></div></div></div></div></div>"
      ],
      "text/plain": [
       "SVC(kernel='linear')"
      ]
     },
     "execution_count": 67,
     "metadata": {},
     "output_type": "execute_result"
    }
   ],
   "source": [
    "classificateur = svm.SVC(kernel='linear')\n",
    "model3 = classificateur.fit(X_train_features, Y_train)\n",
    "model3"
   ]
  },
  {
   "cell_type": "markdown",
   "id": "15f39cf9",
   "metadata": {},
   "source": [
    "## Evaluation du modèle "
   ]
  },
  {
   "cell_type": "code",
   "execution_count": 68,
   "id": "6116f3aa",
   "metadata": {},
   "outputs": [
    {
     "data": {
      "text/plain": [
       "array([0, 0, 0, ..., 0, 0, 0])"
      ]
     },
     "execution_count": 68,
     "metadata": {},
     "output_type": "execute_result"
    }
   ],
   "source": [
    "prediction3 = model3.predict(X_test_features)\n",
    "prediction3"
   ]
  },
  {
   "cell_type": "code",
   "execution_count": 69,
   "id": "d1853877",
   "metadata": {},
   "outputs": [
    {
     "name": "stdout",
     "output_type": "stream",
     "text": [
      "La précision donnée par le modele SVM est à :  0.9811659192825112 %\n"
     ]
    }
   ],
   "source": [
    "accuracy3_X_test = accuracy_score(Y_test, prediction3)\n",
    "print('La précision donnée par le modele SVM est à : ',accuracy3_X_test,'%')"
   ]
  },
  {
   "cell_type": "code",
   "execution_count": 70,
   "id": "7961b176",
   "metadata": {},
   "outputs": [
    {
     "name": "stdout",
     "output_type": "stream",
     "text": [
      "Voici la rapport de classification du modèle Support Vector Machine:               precision    recall  f1-score   support\n",
      "\n",
      "           0       0.98      1.00      0.99       970\n",
      "           1       0.98      0.88      0.92       145\n",
      "\n",
      "    accuracy                           0.98      1115\n",
      "   macro avg       0.98      0.94      0.96      1115\n",
      "weighted avg       0.98      0.98      0.98      1115\n",
      "\n"
     ]
    }
   ],
   "source": [
    "rap_classification3=classification_report(Y_test, prediction3)\n",
    "print('Voici la rapport de classification du modèle Support Vector Machine:\\n', rap_classification3)"
   ]
  },
  {
   "cell_type": "markdown",
   "id": "310d7e79",
   "metadata": {},
   "source": [
    "<h2 style='color:#e26a1a'; align='center'>Évaluation comparative de la performance des modèles ML appliqués</h2> "
   ]
  },
  {
   "cell_type": "markdown",
   "id": "3215b625",
   "metadata": {},
   "source": [
    "* On va réaliser une évaluation comparative de la performance de nos modèles appliqués grâce à la métrique ***F1 Score***, également appelé score F équilibré ou mesure F. \n",
    "\n",
    "- **Le F1-score permet de résumer les valeurs de la précision et du recall en une seule métrique.** Mathématiquement, le F1-score est défini comme étant la moyenne harmonique de la précision et du recall, ce qui se traduit par l’équation suivante:  \n",
    "    $F1-score = 2 * (precision * recall)  /  (precision + recall)$"
   ]
  },
  {
   "cell_type": "code",
   "execution_count": 77,
   "id": "3a1506e3",
   "metadata": {},
   "outputs": [],
   "source": [
    "from sklearn.metrics import f1_score \n",
    "f1_score_model1=f1_score(Y_test,prediction_X_test, average='binary')\n",
    "f1_score_model2=f1_score(Y_test, prediction2, average='binary')\n",
    "f1_score_model3=f1_score(Y_test, prediction3, average='binary')"
   ]
  },
  {
   "cell_type": "code",
   "execution_count": 84,
   "id": "ddd5b5cb",
   "metadata": {},
   "outputs": [
    {
     "data": {
      "text/html": [
       "<div>\n",
       "<style scoped>\n",
       "    .dataframe tbody tr th:only-of-type {\n",
       "        vertical-align: middle;\n",
       "    }\n",
       "\n",
       "    .dataframe tbody tr th {\n",
       "        vertical-align: top;\n",
       "    }\n",
       "\n",
       "    .dataframe thead th {\n",
       "        text-align: right;\n",
       "    }\n",
       "</style>\n",
       "<table border=\"1\" class=\"dataframe\">\n",
       "  <thead>\n",
       "    <tr style=\"text-align: right;\">\n",
       "      <th></th>\n",
       "      <th>Modèle</th>\n",
       "      <th>f1_Score</th>\n",
       "    </tr>\n",
       "  </thead>\n",
       "  <tbody>\n",
       "    <tr>\n",
       "      <th>2</th>\n",
       "      <td>SVM</td>\n",
       "      <td>0.923636</td>\n",
       "    </tr>\n",
       "    <tr>\n",
       "      <th>1</th>\n",
       "      <td>NB</td>\n",
       "      <td>0.862745</td>\n",
       "    </tr>\n",
       "    <tr>\n",
       "      <th>0</th>\n",
       "      <td>LB</td>\n",
       "      <td>0.796680</td>\n",
       "    </tr>\n",
       "  </tbody>\n",
       "</table>\n",
       "</div>"
      ],
      "text/plain": [
       "  Modèle  f1_Score\n",
       "2    SVM  0.923636\n",
       "1     NB  0.862745\n",
       "0     LB  0.796680"
      ]
     },
     "execution_count": 84,
     "metadata": {},
     "output_type": "execute_result"
    },
    {
     "data": {
      "image/png": "[encoded data removed]",
      "text/plain": [
       "<Figure size 432x288 with 1 Axes>"
      ]
     },
     "metadata": {
      "needs_background": "light"
     },
     "output_type": "display_data"
    }
   ],
   "source": [
    "models = pd.DataFrame({\n",
    "    'Modèle':['LB','NB', 'SVM'],\n",
    "    'f1_Score' :[f1_score_model1, f1_score_model2, f1_score_model3]\n",
    "})\n",
    "sns.barplot(x='f1_Score', y='Modèle', data=models, palette=\"YlOrRd\")\n",
    "models.sort_values(by='f1_Score', ascending=False)"
   ]
  },
  {
   "cell_type": "markdown",
   "id": "74fedcb2",
   "metadata": {},
   "source": [
    "<h3 style='color:#e24a0e'> Conclusion </h3>\n",
    "\n",
    "Nous avons donc modélisé la Regression Logistique, Naive Bayes, SVM et le plus précis semble être: SVM.\n",
    "- Le f1_score donné par le modèle SVM est égal à:  92 %\n",
    "- Le f1_score donné par Naive Bayes est égal à:  86 %\n",
    "- Le f1_score donné par la Régression Logistique est égal à:  78 %"
   ]
  },
  {
   "cell_type": "markdown",
   "id": "b3fd28cb",
   "metadata": {},
   "source": [
    "<h2 style='color:#e26a1a'; align='center'>Représentation graphique de la qualité du modèle SVM </h2> \n"
   ]
  },
  {
   "cell_type": "markdown",
   "id": "f365dae3",
   "metadata": {},
   "source": [
    "> ## Matrice de confusion \n",
    "- Une matrice de confusion est une matrice qui résume les performances d’un modèle d’apprentissage automatique sur un ensemble de données de test. Il est souvent utilisé pour mesurer les performances des modèles de classification, qui visent à prédire une étiquette catégorielle pour chaque instance d’entrée. La matrice affiche le nombre de vrais positifs (VP), de vrais négatifs (VN), de faux positifs (FP) et de faux négatifs (FN) produits par le modèle sur les données de test.\n",
    "\n",
    "- Pour la classification binaire, la matrice sera d’une table 2X2, Pour la classification multi-classes, la forme de la matrice sera égale au nombre de classes, c’est-à-dire que pour n classes, ce sera nXn."
   ]
  },
  {
   "cell_type": "code",
   "execution_count": 72,
   "id": "4656196e",
   "metadata": {},
   "outputs": [],
   "source": [
    "from sklearn.metrics import confusion_matrix"
   ]
  },
  {
   "cell_type": "markdown",
   "id": "d29a1b3d",
   "metadata": {},
   "source": [
    "- **Représentation graphique de la performance du modèle SVM.**"
   ]
  },
  {
   "cell_type": "code",
   "execution_count": 73,
   "id": "7b3df848",
   "metadata": {},
   "outputs": [
    {
     "data": {
      "image/png": "[encoded data removed]",
      "text/plain": [
       "<Figure size 432x288 with 2 Axes>"
      ]
     },
     "metadata": {
      "needs_background": "light"
     },
     "output_type": "display_data"
    }
   ],
   "source": [
    "cm = confusion_matrix(Y_test, prediction3).astype(int)\n",
    "sns.heatmap(cm, annot=True, cmap='YlOrRd',\n",
    "xticklabels=['ham', 'spam'], yticklabels=['ham', 'spam'])\n",
    "plt.xlabel(\"Classes prédites\")\n",
    "plt.ylabel(\"Classes réelles\")\n",
    "plt.show()"
   ]
  },
  {
   "cell_type": "markdown",
   "id": "29f5f22e",
   "metadata": {},
   "source": [
    "<h4 style='color:#e24a0e'>Interprétation:</h4>\n",
    "\n",
    "SVM n’a prédit que trois messages comme faux positifs et mal classé 18 messages de spam comme ham, c'est **très peu** comme résultat, ce qui en fait l’algorithme le plus réussi pour cette tâche."
   ]
  },
  {
   "cell_type": "markdown",
   "id": "9bfc839f",
   "metadata": {},
   "source": [
    "> # 5. Système de prédiction"
   ]
  },
  {
   "cell_type": "code",
   "execution_count": 74,
   "id": "dc1a466f",
   "metadata": {},
   "outputs": [
    {
     "name": "stdout",
     "output_type": "stream",
     "text": [
      "[1]\n",
      "Un mail Spam\n"
     ]
    }
   ],
   "source": [
    "# Construire un système de prédiction \n",
    "mail_contenu = [\"You have been chosen as the winner of an international lottery - claim your prize!\"]\n",
    "# Vous pouvez essayer d'autres messages, tels que:\n",
    "\"Don't miss this exclusive offer: buy an iPhone at half the price!\"\n",
    "\"Double your investment in one week with our automated trading system.\"\n",
    "\"Check your bank account now and protect your sensitive information.\"\n",
    "\"Win an all-inclusive trip to an exotic destination by completing this survey.\"\n",
    "\n",
    "# Convertir le texte en un vecteur de caractéristiques\n",
    "input_data_features = feature_extraction.transform(mail_contenu)\n",
    "\n",
    "# Prédire en utilisant notre meilleur modèle 'SVM'\n",
    "prediction = model3.predict(input_data_features)\n",
    "print(prediction) # take off this print when you do a presentation\n",
    "\n",
    "if (prediction[0]==1):\n",
    "  print('Un mail Spam')\n",
    "\n",
    "else:\n",
    "  print('Un mail Ham')"
   ]
  },
  {
   "cell_type": "markdown",
   "id": "8d075d90",
   "metadata": {},
   "source": [
    "> <h1 style='color:#f2c50c'>MERCI POUR VOTRE ATTENTION</h1>"
   ]
  },
  {
   "cell_type": "markdown",
   "id": "3e32df6c",
   "metadata": {},
   "source": [
    "# Remarks"
   ]
  },
  {
   "cell_type": "markdown",
   "id": "ff833107",
   "metadata": {},
   "source": [
    "1. Your work is great, well structured and writed BUT here's some remarks i would like to give : \n",
    "    - You need to look after the variables naming in data science\n",
    "    - Learn about the data science piplines structure (the steps to follow in a data science project) for exemple :\n",
    "        - EDA, Data cleaning, Pre-processing, Split, Modeling, Model Evaluation, Model pimp, Model Evaluation ......etc\n",
    "    - Be carfull when you copy something from internet, never use something you don't understand.\n",
    "2. To improve your work :\n",
    "    - Try to use more models to see if there are others that give better results (in your case it's just a TP so it ok to not use more) but in your pro or perso project try to always use all the existing models : \n",
    "    https://scikit-learn.org/stable/supervised_learning.html\n",
    "    - Now that you found that SVM is the best model without modifying parameters, Try to pimp it by using GridSearchCV (it use multiple parameters + Validation set (the one announced above but not implemented ^^)) : https://youtu.be/w_bLGK4Pteo\n",
    "    - Try to see the learning curve (important in a classification problem it tell you if your model is an overfitting, or an underfitting model + it tells you where the problem is (model improvement or data enrichissement)) : https://youtu.be/w_bLGK4Pteo\n",
    "    - When you have the best model you can try to use the ensemble learning (bagging or boosting) to get better results : https://youtu.be/7C_YpudYtw8\n",
    "    - If you wanna do something really perfect try to give some explanation about how the used models work mathematicly (it's not a waste of time since you'll need them in you PFE next year)\n",
    "    - In the presentation test, try to find more exemples to show the efficiency of your work "
   ]
  },
  {
   "cell_type": "markdown",
   "id": "39768441",
   "metadata": {},
   "source": [
    "# Gift (Always work like this)"
   ]
  },
  {
   "cell_type": "markdown",
   "id": "6685615e",
   "metadata": {},
   "source": [
    "1. Définir un objectif mesurable\n",
    "    métrique : Précision, Recall, Score F1\n",
    "2. EDA (Exploratory Data Analysis) : comprendre au maximum les données dont on dispose\n",
    "    - Analyse de la forme :\n",
    "        - identification de la target\n",
    "        - Nombre de lignes et de colonnes\n",
    "        - Types de variables\n",
    "        - Identification des valeurs manquantes\n",
    "    - Analyze du fond :\n",
    "        - Visualisation de la target (Histogramme / Boxplot)\n",
    "        - Compréhension des différentes variables (Internet)\n",
    "        - Visualisation des relations features-target (Histogramme/ Boxplot)\n",
    "        - Identification des outliers\n",
    "3. Pre-processing\n",
    "    - Élimination des NaN\n",
    "    - Encodage\n",
    "    - Suppression des outliers néfaste au modèle (Après le premier modèle)\n",
    "    - Feature Selection\n",
    "    - Feature Engineering (Créer de nouvelles variables) (Polynomial feature)(PCA)\n",
    "    - Feature Scaling\n",
    "    - Création du Train set/ Test set\n",
    "4. Modeling\n",
    "    - Définir une fonction d'évaluation\n",
    "    - Entrainement de différents modèles\n",
    "    - Optimisation avec GridSearchCV\n",
    "    - (Optionnel) Analyse des erreurs et retour au Preprocessing / EDA\n",
    "    - Learning Curve et prise de décision."
   ]
  }
 ],
 "metadata": {
  "kernelspec": {
   "display_name": "Python 3 (ipykernel)",
   "language": "python",
   "name": "python3"
  },
  "language_info": {
   "codemirror_mode": {
    "name": "ipython",
    "version": 3
   },
   "file_extension": ".py",
   "mimetype": "text/x-python",
   "name": "python",
   "nbconvert_exporter": "python",
   "pygments_lexer": "ipython3",
   "version": "3.9.13"
  }
 },
 "nbformat": 4,
 "nbformat_minor": 5
}
